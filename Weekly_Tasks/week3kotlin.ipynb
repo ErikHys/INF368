{
 "cells": [
  {
   "cell_type": "code",
   "execution_count": 15,
   "metadata": {},
   "outputs": [],
   "source": [
    "// import java.io.File\n",
    "// import java.util.Scanner\n",
    "\n",
    "// val path: String = \"../Data/the_icy_lake.txt\"\n",
    "\n",
    "// fun readFile(fileName: String): List<List<Double>> {\n",
    "//     var sc = Scanner(File(fileName))\n",
    "//     var hill: MutableList<MutableList<Double>> = mutableListOf()\n",
    "//     for(i in 0..30){\n",
    "//         var row: MutableList<Double> = mutableListOf()\n",
    "//         val inputRow: String = sc.nextLine()\n",
    "//         for(value in inputRow.split(\"\\t\")){\n",
    "//             var fValue = value.toDouble()\n",
    "//             row.add(fValue)\n",
    "            \n",
    "//         }\n",
    "//         hill.add(row)\n",
    "//     }\n",
    "//     val finalHill: List<List<Double>> = hill\n",
    "//     return finalHill\n",
    "// }\n",
    "\n",
    "\n",
    "// val lake = readFile(path)"
   ]
  },
  {
   "cell_type": "markdown",
   "metadata": {},
   "source": [
    "### Level 1\n",
    "\n",
    "    - State can be location and velocity\n",
    "    - Minus for each time step\n",
    "    - Because Hubert doesn't know the map, so he can calculate the perfect route beforehand.\n",
    "    - A lot of different states to take into account, location plus all different velocities.\n",
    "    \n",
    "Bonus:\n"
   ]
  },
  {
   "cell_type": "markdown",
   "metadata": {},
   "source": [
    "### Level 2"
   ]
  },
  {
   "cell_type": "markdown",
   "metadata": {},
   "source": []
  },
  {
   "cell_type": "code",
   "execution_count": null,
   "metadata": {},
   "outputs": [],
   "source": []
  }
 ],
 "metadata": {
  "kernelspec": {
   "display_name": "Kotlin",
   "language": "kotlin",
   "name": "kotlin"
  },
  "language_info": {
   "codemirror_mode": "text/x-kotlin",
   "file_extension": ".kt",
   "mimetype": "text/x-kotlin",
   "name": "kotlin",
   "pygments_lexer": "kotlin",
   "version": "1.5.0-dev-1206"
  }
 },
 "nbformat": 4,
 "nbformat_minor": 1
}