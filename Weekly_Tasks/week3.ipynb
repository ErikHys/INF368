{
 "cells": [
  {
   "cell_type": "markdown",
   "metadata": {
    "collapsed": true,
    "pycharm": {
     "name": "#%% md\n"
    }
   },
   "source": [
    "## Week 3\n",
    "\n",
    "Started level 4, but the code was rather unoptimized and ran slowly, so am not turning in that part(the code is commented\n",
    "out). Feedback on level 1 and 2 is much appreciated, since I'm not completely sure it is correct.\n",
    "Time spent on this exercise:\n",
    "    - Level 1 and 2, maybe 3 or 4 hours, not including the 3 days of procrastinating.\n",
    "    - Level 3 and started 4(think I'm finished with calculating Anne-Lise's expected time), 5 hours maybe.\n",
    "\n",
    "### Level 1\n",
    "\n",
    "    1.1.\n",
    "        - For state representation you would only need current location, and view forward. How far forward\n",
    "        would determine how far the agent could plan.\n",
    "        - 1 minus for the location roughness, and a bouns at the end.\n",
    "        - It's a finite MDP, you can only move in one direction, downwards and eventually you will get to the bottom.\n",
    "        - It is an episodic task since you finish when you get to the bottom,\n",
    "         it is not something you are contiously doing, like Week 1 exercise example.\n",
    "    1.2\n",
    "        - Since there is no probability involved when you are doing the action \"go straight\"\n",
    "            p(s'(x+1,y)| s(x,y), \"go straight) = 1\n",
    "            p(s'(x+1,y+1)| s(x,y), \"go straight) = 0\n",
    "            p(s'(x+1,y-1)| s(x,y), \"go straight) = 0\n",
    "    1.3\n",
    "        - I would not use a discount value here for since it is the total lap that counts, and we don't have any\n",
    "        randomness or difficulty involved, e.g. if a more difficult path was faster, but you could fail and go slower.\n",
    "        Then a discount would be more relevant I believe, when the action had uncertainty of result.\n",
    "    1.4\n",
    "        - 3^100, it is getting warm already.\n",
    "    1.5\n",
    "        - Maybe multiply the roughness value by the diagonal if you ar going left or right, roughness * 1.21.\n",
    "        I'm unfortunatly not a geometer...\n"
   ]
  },
  {
   "cell_type": "code",
   "execution_count": 1,
   "outputs": [],
   "source": [
    "import copy\n",
    "import numpy as np\n",
    "import matplotlib.pyplot as plt"
   ],
   "metadata": {
    "collapsed": false,
    "pycharm": {
     "name": "#%%\n"
    }
   }
  },
  {
   "cell_type": "code",
   "execution_count": 2,
   "outputs": [],
   "source": [
    "with open(\"../Data/the_hill.txt\") as file:\n",
    "    hill_txt = file.read()\n",
    "\n",
    "hill = hill_txt.split('\\n')\n",
    "hill = np.asarray([np.asarray([float(x) for x in row.split('\\t')]) for row in hill])"
   ],
   "metadata": {
    "collapsed": false,
    "pycharm": {
     "name": "#%%\n"
    }
   }
  },
  {
   "cell_type": "code",
   "execution_count": 3,
   "outputs": [
    {
     "data": {
      "text/plain": "<matplotlib.image.AxesImage at 0x1b3ff614a60>"
     },
     "execution_count": 3,
     "metadata": {},
     "output_type": "execute_result"
    },
    {
     "data": {
      "text/plain": "<Figure size 432x288 with 1 Axes>",
      "image/png": "[encoded data removed]"
     },
     "metadata": {
      "needs_background": "light"
     },
     "output_type": "display_data"
    }
   ],
   "source": [
    "plt.imshow(hill, cmap='gray')"
   ],
   "metadata": {
    "collapsed": false,
    "pycharm": {
     "name": "#%%\n"
    }
   }
  },
  {
   "cell_type": "markdown",
   "source": [
    "### Level 2"
   ],
   "metadata": {
    "collapsed": false,
    "pycharm": {
     "name": "#%% md\n"
    }
   }
  },
  {
   "cell_type": "code",
   "execution_count": 4,
   "outputs": [
    {
     "name": "stdout",
     "output_type": "stream",
     "text": [
      "Lars reward: 41.05490049000001\n",
      "Lars time: 58.94509950999999\n"
     ]
    }
   ],
   "source": [
    "#Sum of sledding down the middle line(1- roughness) for each step\n",
    "lars_time = np.sum([1-hill[15][x] for x in range(100)])\n",
    "print('Lars reward: ' + str(lars_time))\n",
    "print('Lars time: ' + str(100 - lars_time))"
   ],
   "metadata": {
    "collapsed": false,
    "pycharm": {
     "name": "#%%\n"
    }
   }
  },
  {
   "cell_type": "markdown",
   "source": [
    "Diagram for all states other than edges, row 0 and 30.\n",
    "\n",
    "**Diagram was removed because it wouldn’t convert to pdf...**\n",
    "\n",
    "In the edge cases Anne-Lise would have 2/3 of a chance of going towards the center of the course.\n",
    "\n"
   ],
   "metadata": {
    "collapsed": false,
    "pycharm": {
     "name": "#%% md\n"
    }
   }
  },
  {
   "cell_type": "code",
   "execution_count": 5,
   "outputs": [
    {
     "data": {
      "text/plain": "<Figure size 432x288 with 1 Axes>",
      "image/png": "[encoded data removed]"
     },
     "metadata": {
      "needs_background": "light"
     },
     "output_type": "display_data"
    }
   ],
   "source": [
    "def anne_lise_bellmann_value_for_policy_loc(loc_x, loc_y):\n",
    "    if loc_y == 0:\n",
    "        values = sum([1/3 * (1-hill[loc_y + dy][loc_x+1]) for dy in [0, 0, 1]])\n",
    "    elif loc_y == 30:\n",
    "        values = sum([1/3 * (1-hill[loc_y + dy][loc_x+1]) for dy in [0, 0, -1]])\n",
    "    else:\n",
    "        values = sum([1/3 * (1-hill[loc_y + dy][loc_x+1]) for dy in range(-1, 2)])\n",
    "    return values + 1 - hill[loc_y][loc_x]\n",
    "\n",
    "\n",
    "v_s_100 = []\n",
    "\n",
    "\n",
    "for i in range(31):\n",
    "    v_s_100.append(anne_lise_bellmann_value_for_policy_loc(loc_x=98, loc_y=i))\n",
    "\n",
    "plt.bar(range(31), v_s_100)\n",
    "plt.title(\"Bellman eq values for second last step before crossing the line.\")\n",
    "plt.show()"
   ],
   "metadata": {
    "collapsed": false,
    "pycharm": {
     "name": "#%%\n"
    }
   }
  },
  {
   "cell_type": "markdown",
   "source": [
    "As we can see from the bar graph the values match with the darker areas of the last column of\n",
    "the image."
   ],
   "metadata": {
    "collapsed": false
   }
  },
  {
   "cell_type": "code",
   "execution_count": 6,
   "outputs": [
    {
     "name": "stdout",
     "output_type": "stream",
     "text": [
      "Anne-Lise expected reward 47.69753501885055\n",
      "Anne-Lise expected time 52.30246498114945\n"
     ]
    }
   ],
   "source": [
    "v_s =[v_s_100]\n",
    "def next_step(y, x):\n",
    "    if y == 0:\n",
    "        values = [v_s[x][y+dy] for dy in [0, 0, 1]]\n",
    "    elif y == 30:\n",
    "        values = [v_s[x][y+dy] for dy in [0, 0, -1]]\n",
    "    else:\n",
    "        values = [v_s[x][y+dy] for dy in [0, -1, 1]]\n",
    "    return values\n",
    "\n",
    "\n",
    "\n",
    "for i in range(97, -1, -1):\n",
    "    col = []\n",
    "    for j in range(31):\n",
    "        next_step_l = next_step(j, 97-i)\n",
    "        col.append(1- hill[j, i] + np.mean(next_step_l))\n",
    "    v_s.append(col)\n",
    "print(f\"Anne-Lise expected reward {v_s[len(v_s)-1][15]}\")\n",
    "print(f\"Anne-Lise expected time {100 - v_s[len(v_s)-1][15]}\")\n"
   ],
   "metadata": {
    "collapsed": false,
    "pycharm": {
     "name": "#%%\n"
    }
   }
  },
  {
   "cell_type": "markdown",
   "source": [
    "So the expected value for Anne-Lise is $\\approx$ 48. I'm not sure i did the Bellman equation right,\n",
    "so here is my thought process/calculations so you don't have to understand the code.\n",
    "\n",
    "Start at last step with actions that give reward, column 99/i=98, and find the value of each Expected_value in\n",
    "that column. So Expected_value[98][y] = Reward[98][y] + 1/3 * Reward[99][y-1] + 1/3 * Reward[99][y] + 1/3 * Reward[99][y+1],\n",
    "and the fence cases taken into account, Reward[x][y] = 1-hill[x][y].\n",
    "After that I work my way up the hill Expected_value[x][y] = Reward[x][y] + 1/3 * Expected_value[x+1][y-1] + 1/3 * Expected_value[x+1][y] +\n",
    "                                                                             1/3 * Expected_value[x+1][y+1]\n",
    "\n",
    "\n",
    "Since we are calculation each locations value just once we have a runtime of O(locations) in our case, if we\n",
    "were to calculate all possible trajectories we would have to do 3^100, and since we did all possible starting points also\n",
    "the equivalent to 31x3^100 = 1.59767031427e+49"
   ],
   "metadata": {
    "collapsed": false,
    "pycharm": {
     "name": "#%% md\n"
    }
   }
  },
  {
   "cell_type": "code",
   "execution_count": 7,
   "outputs": [
    {
     "data": {
      "text/plain": "<Figure size 432x288 with 1 Axes>",
      "image/png": "[encoded data removed]"
     },
     "metadata": {
      "needs_background": "light"
     },
     "output_type": "display_data"
    },
    {
     "name": "stdout",
     "output_type": "stream",
     "text": [
      "\n"
     ]
    },
    {
     "data": {
      "text/plain": "<Figure size 432x288 with 1 Axes>",
      "image/png": "[encoded data removed]"
     },
     "metadata": {
      "needs_background": "light"
     },
     "output_type": "display_data"
    }
   ],
   "source": [
    "img =[[]]*31\n",
    "for row_idx in range(31):\n",
    "        img[row_idx] = [v_s[col_idx][row_idx] for col_idx in range(98, -1, -1)]\n",
    "plt.title(\"Anne-Lise Expected values, lighter is more expected points\")\n",
    "plt.imshow(img)\n",
    "plt.pause(0.01)\n",
    "plt.title(\"Roughness of the hill\")\n",
    "plt.imshow(hill, cmap='gray')\n",
    "print()"
   ],
   "metadata": {
    "collapsed": false,
    "pycharm": {
     "name": "#%%\n"
    }
   }
  },
  {
   "cell_type": "code",
   "source": [
    "def best_bellmann_value_for_policy_loc(loc_x, loc_y):\n",
    "    if loc_y == 0:\n",
    "        values = max([1-hill[loc_y + dy][loc_x+1] for dy in [0, 0, 1]])\n",
    "    elif loc_y == 30:\n",
    "        values = max([1-hill[loc_y + dy][loc_x+1] for dy in [0, 0, -1]])\n",
    "    else:\n",
    "        values = max([1-hill[loc_y + dy][loc_x+1] for dy in range(-1, 2)])\n",
    "    return values + 1 - hill[loc_y][loc_x]\n",
    "\n",
    "v_s_star_100 = []\n",
    "for i in range(31):\n",
    "    v_s_star_100.append(best_bellmann_value_for_policy_loc(loc_x=98, loc_y=i))\n",
    "\n",
    "v_s = [v_s_star_100]\n",
    "for i in range(97, -1, -1):\n",
    "    col = []\n",
    "    for j in range(31):\n",
    "        next_step_l = next_step(j, 97-i)\n",
    "        col.append(1- hill[j, i] + max(next_step_l))\n",
    "    v_s.append(col)"
   ],
   "metadata": {
    "collapsed": false,
    "pycharm": {
     "name": "#%%\n"
    }
   },
   "execution_count": 8,
   "outputs": []
  },
  {
   "cell_type": "code",
   "execution_count": 9,
   "outputs": [
    {
     "name": "stdout",
     "output_type": "stream",
     "text": [
      "Max reward starting at the middle: 76.98039131199994\n",
      "Best time starting at the middle: 23.019608688000062\n"
     ]
    }
   ],
   "source": [
    "print(\"Max reward starting at the middle: \" + str(v_s[len(v_s)-1][15]))\n",
    "print(\"Best time starting at the middle: \" + str(100 - v_s[len(v_s)-1][15]))"
   ],
   "metadata": {
    "collapsed": false,
    "pycharm": {
     "name": "#%%\n"
    }
   }
  },
  {
   "cell_type": "code",
   "execution_count": 10,
   "outputs": [
    {
     "data": {
      "text/plain": "<Figure size 432x288 with 1 Axes>",
      "image/png": "[encoded data removed]"
     },
     "metadata": {
      "needs_background": "light"
     },
     "output_type": "display_data"
    },
    {
     "data": {
      "text/plain": "<Figure size 432x288 with 1 Axes>",
      "image/png": "[encoded data removed]"
     },
     "metadata": {
      "needs_background": "light"
     },
     "output_type": "display_data"
    },
    {
     "data": {
      "text/plain": "<matplotlib.image.AxesImage at 0x1b3ff8df700>"
     },
     "execution_count": 10,
     "metadata": {},
     "output_type": "execute_result"
    },
    {
     "data": {
      "text/plain": "<Figure size 432x288 with 1 Axes>",
      "image/png": "[encoded data removed]"
     },
     "metadata": {
      "needs_background": "light"
     },
     "output_type": "display_data"
    }
   ],
   "source": [
    "img =[[]]*31\n",
    "for row_idx in range(31):\n",
    "        img[row_idx] = [v_s[col_idx][row_idx] for col_idx in range(98, -1, -1)]\n",
    "plt.title(\"Max policy values, lighter is more points\")\n",
    "plt.imshow(img)\n",
    "plt.pause(0.01)\n",
    "plt.title(\"Roughness of the hill\")\n",
    "plt.imshow(hill, cmap='gray')\n",
    "plt.pause(0.01)\n",
    "\n",
    "n_v_s = [v_s[i].copy() for i in range(len(v_s))]\n",
    "for i in range(99):\n",
    "    n_v_s[i] = np.asarray(n_v_s[i])\n",
    "    n_v_s[i] = n_v_s[i]/np.linalg.norm(n_v_s[i])\n",
    "n_v_s = np.asarray(n_v_s)\n",
    "img =[[]]*31\n",
    "for row_idx in range(31):\n",
    "        img[row_idx] = [n_v_s[col_idx][row_idx] for col_idx in range(98, -1, -1)]\n",
    "plt.title(\"Max policy values normalized, lighter is more points\")\n",
    "plt.imshow(img)"
   ],
   "metadata": {
    "collapsed": false,
    "pycharm": {
     "name": "#%%\n"
    }
   }
  },
  {
   "cell_type": "code",
   "execution_count": 11,
   "outputs": [],
   "source": [
    "v_s.reverse()\n",
    "def get_trajectory(start_y=15, start_x=0, trajectory = None ):\n",
    "    if trajectory is None:\n",
    "        trajectory = [(start_x, start_y)]\n",
    "    m = 0\n",
    "    m_idx = (0, 0)\n",
    "    if start_x == len(v_s)-1:\n",
    "        return\n",
    "    if start_y == 0:\n",
    "        next_step_dy = [0, 0, 1]\n",
    "    elif start_y == 30:\n",
    "        next_step_dy = [0, 0, -1]\n",
    "    else:\n",
    "        next_step_dy = [0, 1, -1]\n",
    "    for dy in next_step_dy:\n",
    "        if v_s[start_x+1][start_y+dy] > m:\n",
    "            m = v_s[start_x+1][start_y+dy]\n",
    "            m_idx = (start_x+1, start_y+dy)\n",
    "    trajectory.append((m_idx[0], m_idx[1]))\n",
    "    get_trajectory(m_idx[1], m_idx[0], trajectory)\n",
    "    return trajectory"
   ],
   "metadata": {
    "collapsed": false,
    "pycharm": {
     "name": "#%%\n"
    }
   }
  },
  {
   "cell_type": "code",
   "execution_count": 12,
   "outputs": [
    {
     "data": {
      "text/plain": "<Figure size 432x288 with 1 Axes>",
      "image/png": "[encoded data removed]"
     },
     "metadata": {
      "needs_background": "light"
     },
     "output_type": "display_data"
    }
   ],
   "source": [
    "trajectory = np.asarray(get_trajectory())\n",
    "\n",
    "for x, y in trajectory:\n",
    "    n_v_s[98-x][y] = 1.0\n",
    "img =[[]]*31\n",
    "for row_idx in range(31):\n",
    "        img[row_idx] = [n_v_s[col_idx][row_idx] for col_idx in range(98, -1, -1)]\n",
    "plt.title(\"Max policy values, normalized, lighter is more points\")\n",
    "plt.imshow(img)\n",
    "v_s = np.asarray(v_s)"
   ],
   "metadata": {
    "collapsed": false,
    "pycharm": {
     "name": "#%%\n"
    }
   }
  },
  {
   "cell_type": "markdown",
   "source": [
    "This looks like the right trajectory, sorry for the visualisation, I'm surprised because I was not very\n",
    "confident on the Bellman equations."
   ],
   "metadata": {
    "collapsed": false
   }
  },
  {
   "cell_type": "markdown",
   "source": [
    "### Level 3\n",
    "\n",
    "    - Agent state could be view of nearby locations or entire map, current location and orientation/new orientation.\n",
    "    - The state space is 4*3000 different states since it it can be in each location and have four different orientations\n",
    "    in each location.\n",
    "    - The big problem here is that you can go in circles, so there is no guarantee that you will reach the finish, just\n",
    "    keep on driving. Since you can visit the same location and state several times I would think there\n",
    "    are infinite trajectories."
   ],
   "metadata": {
    "collapsed": false,
    "pycharm": {
     "name": "#%% md\n"
    }
   }
  },
  {
   "cell_type": "code",
   "execution_count": 13,
   "outputs": [
    {
     "data": {
      "text/plain": "<matplotlib.image.AxesImage at 0x1b3ff9f10a0>"
     },
     "execution_count": 13,
     "metadata": {},
     "output_type": "execute_result"
    },
    {
     "data": {
      "text/plain": "<Figure size 432x288 with 1 Axes>",
      "image/png": "[encoded data removed]"
     },
     "metadata": {
      "needs_background": "light"
     },
     "output_type": "display_data"
    }
   ],
   "source": [
    "with open(\"../Data/the_backyard.txt\") as file:\n",
    "    backyard_txt = file.read()\n",
    "\n",
    "backyard = backyard_txt.split('\\n')\n",
    "backyard = np.asarray([np.asarray([float(x) for x in row.split('\\t')]) for row in backyard])\n",
    "\n",
    "plt.imshow(backyard, cmap=\"gray\")"
   ],
   "metadata": {
    "collapsed": false,
    "pycharm": {
     "name": "#%%\n"
    }
   }
  },
  {
   "cell_type": "markdown",
   "source": [
    "### Level 4\n",
    "\n",
    "**NOT FINISHED**"
   ],
   "metadata": {
    "collapsed": false
   }
  },
  {
   "cell_type": "code",
   "execution_count": 14,
   "outputs": [
    {
     "name": "stdout",
     "output_type": "stream",
     "text": [
      "Lars time: 49.329414542999984\n"
     ]
    }
   ],
   "source": [
    "print(\"Lars time: \" + str(sum(backyard[15])))\n"
   ],
   "metadata": {
    "collapsed": false,
    "pycharm": {
     "name": "#%%\n"
    }
   }
  },
  {
   "cell_type": "code",
   "execution_count": 15,
   "outputs": [],
   "source": [
    "#One index for each state position\n",
    "sm_v_s = np.array([np.array([np.array([0.0 for i in range(4)]) for j in range(31)]) for k in range(100)])\n",
    "dir_values = {0: (0, -1), 1: (1, 0), 2: (0, 1), 3: (-1, 0)}\n",
    "\n",
    "def move_value(x, y, param):\n",
    "    if x + dir_values[param][0] < 0 or x + dir_values[param][0] > 99 or y + dir_values[param][1] < 0 or y + dir_values[param][1] > 30:\n",
    "        return sm_v_s[x][y][param]\n",
    "    return sm_v_s[x+dir_values[param][0]][y+dir_values[param][1]][param]"
   ],
   "metadata": {
    "collapsed": false,
    "pycharm": {
     "name": "#%%\n"
    }
   }
  },
  {
   "cell_type": "code",
   "execution_count": 16,
   "outputs": [],
   "source": [
    "\n",
    "# theta = 0.1\n",
    "# delta = 1\n",
    "# while delta > theta:\n",
    "#     delta = 0\n",
    "#     for x in range(len(sm_v_s)-1, -1, -1):\n",
    "#         for y in range(len(sm_v_s[x])):\n",
    "#             for dir in range(len(sm_v_s[x][y])):\n",
    "#                 if x != 99 or y != 15:\n",
    "#                     v = sm_v_s[x][y][dir]\n",
    "#                     sum_of_all_action_states_values = np.mean([move_value(x, y, (dir+direction)%4)\n",
    "#                                                                 for direction in [1, 0, -1]])\n",
    "#                     reward = backyard[y][x]\n",
    "#                     sm_v_s[x][y][dir] = reward + sum_of_all_action_states_values\n",
    "#                     delta = max(delta, abs(v - sm_v_s[x][y][dir]))\n",
    "#\n",
    "# print(\"Anne-Lise Expected time: \" + str(sm_v_s[0][15][1]))\n"
   ],
   "metadata": {
    "collapsed": false,
    "pycharm": {
     "name": "#%%\n"
    }
   }
  }
 ],
 "metadata": {
  "kernelspec": {
   "display_name": "Python 3",
   "language": "python",
   "name": "python3"
  },
  "language_info": {
   "codemirror_mode": {
    "name": "ipython",
    "version": 2
   },
   "file_extension": ".py",
   "mimetype": "text/x-python",
   "name": "python",
   "nbconvert_exporter": "python",
   "pygments_lexer": "ipython2",
   "version": "2.7.6"
  }
 },
 "nbformat": 4,
 "nbformat_minor": 0
}