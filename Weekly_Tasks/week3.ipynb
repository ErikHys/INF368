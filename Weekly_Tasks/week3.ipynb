{
 "cells": [
  {
   "cell_type": "markdown",
   "metadata": {
    "collapsed": true,
    "pycharm": {
     "name": "#%% md\n"
    }
   },
   "source": [
    "## Week 3\n",
    "\n",
    "### Level 1\n",
    "\n",
    "    1.1.\n",
    "        - For state representation you would only need current location, and view forward. How far forward\n",
    "        would determine how far the agent could plan.\n",
    "        - 1 minus for the location roughness, and a bouns at the end.\n",
    "        - It's a finite MDP, you can only move in one direction, downwards and eventually you will get to the bottom.\n",
    "        - It is an episodic task since you finish when you get to the bottom,\n",
    "         it is not something you are contiously doing, like Week 1 exercise example.\n",
    "    1.2\n",
    "        - Since there is no probability involved when you are doing the action \"go straight\"\n",
    "            p(s'(x+1,y)| s(x,y), \"go straight) = 1\n",
    "            p(s'(x+1,y+1)| s(x,y), \"go straight) = 0\n",
    "            p(s'(x+1,y-1)| s(x,y), \"go straight) = 0\n",
    "    1.3\n",
    "        - I would not use a discount value here for since it is the total lap that counts, and we don't have any\n",
    "        randomness or difficulty involved, e.g. if a more difficult path was faster, but you could fail and go slower.\n",
    "        Then a discount would be more relevant I believe, when the action had uncertainty of result.\n",
    "    1.4\n",
    "        - 3^100, it is getting warm already.\n",
    "    1.5\n",
    "        - Maybe multiply the roughness value by the diagonal if you ar going left or right, roughness * 1.21.\n",
    "        I'm unfortunatly not a geometer...\n"
   ]
  },
  {
   "cell_type": "code",
   "execution_count": 23,
   "outputs": [],
   "source": [
    "import numpy as np\n",
    "import matplotlib.pyplot as plt"
   ],
   "metadata": {
    "collapsed": false,
    "pycharm": {
     "name": "#%%\n"
    }
   }
  },
  {
   "cell_type": "code",
   "execution_count": 24,
   "outputs": [],
   "source": [
    "with open(\"../Data/the_hill.txt\") as file:\n",
    "    hill_txt = file.read()\n",
    "\n",
    "hill = hill_txt.split('\\n')\n",
    "hill = np.asarray([np.asarray([float(x) for x in row.split('\\t')]) for row in hill])"
   ],
   "metadata": {
    "collapsed": false,
    "pycharm": {
     "name": "#%%\n"
    }
   }
  },
  {
   "cell_type": "code",
   "execution_count": 25,
   "outputs": [
    {
     "data": {
      "text/plain": "<matplotlib.image.AxesImage at 0x1ff7e76f760>"
     },
     "execution_count": 25,
     "metadata": {},
     "output_type": "execute_result"
    },
    {
     "data": {
      "text/plain": "<Figure size 432x288 with 1 Axes>",
      "image/png": "[encoded data removed]"
     },
     "metadata": {
      "needs_background": "light"
     },
     "output_type": "display_data"
    }
   ],
   "source": [
    "plt.imshow(hill, cmap='gray')"
   ],
   "metadata": {
    "collapsed": false,
    "pycharm": {
     "name": "#%%\n"
    }
   }
  },
  {
   "cell_type": "markdown",
   "source": [
    "### Level 2"
   ],
   "metadata": {
    "collapsed": false,
    "pycharm": {
     "name": "#%% md\n"
    }
   }
  },
  {
   "cell_type": "code",
   "execution_count": 26,
   "outputs": [
    {
     "name": "stdout",
     "output_type": "stream",
     "text": [
      "Lars reward: 38.34509633999999\n"
     ]
    }
   ],
   "source": [
    "#Sum of sledding down the middle line(1- roughness) for each step\n",
    "lars_time = np.sum([1-hill[16][x] for x in range(100)])\n",
    "print('Lars reward: ' + str(lars_time))"
   ],
   "metadata": {
    "collapsed": false,
    "pycharm": {
     "name": "#%%\n"
    }
   }
  },
  {
   "cell_type": "markdown",
   "source": [
    "Diagram for all states other than edges, row 0 and 30.\n",
    "\n",
    "![Diagram](../Imgs/pd.png)\n",
    "\n",
    "In the edge cases Anne-Lise would have 2/3 of a chance of going towards the center of the course.\n",
    "\n"
   ],
   "metadata": {
    "collapsed": false,
    "pycharm": {
     "name": "#%% md\n"
    }
   }
  },
  {
   "cell_type": "code",
   "execution_count": 27,
   "outputs": [
    {
     "data": {
      "text/plain": "<Figure size 432x288 with 1 Axes>",
      "image/png": "[encoded data removed]"
     },
     "metadata": {
      "needs_background": "light"
     },
     "output_type": "display_data"
    }
   ],
   "source": [
    "def anne_lise_bellmann_value_for_policy_loc(loc_x, loc_y):\n",
    "    if loc_y == 0:\n",
    "        values = sum([1/3 * (1-hill[loc_y + dy][loc_x+1]) for dy in [0, 0, 1]])\n",
    "    elif loc_y == 30:\n",
    "        values = sum([1/3 * (1-hill[loc_y + dy][loc_x+1]) for dy in [0, 0, -1]])\n",
    "    else:\n",
    "        values = sum([1/3 * (1-hill[loc_y + dy][loc_x+1]) for dy in range(-1, 2)])\n",
    "    return values + 1 - hill[loc_y][loc_x]\n",
    "\n",
    "\n",
    "v_s_100 = []\n",
    "\n",
    "\n",
    "for i in range(31):\n",
    "    v_s_100.append(anne_lise_bellmann_value_for_policy_loc(loc_x=98, loc_y=i))\n",
    "\n",
    "plt.bar(range(31), v_s_100)\n",
    "plt.title(\"Bellman eq values for second last step before crossing the line.\")\n",
    "plt.show()"
   ],
   "metadata": {
    "collapsed": false,
    "pycharm": {
     "name": "#%%\n"
    }
   }
  },
  {
   "cell_type": "markdown",
   "source": [
    "As we can see from the bar graph the values match with the darker areas of the last column of\n",
    "the image."
   ],
   "metadata": {
    "collapsed": false
   }
  },
  {
   "cell_type": "code",
   "execution_count": 28,
   "outputs": [
    {
     "name": "stdout",
     "output_type": "stream",
     "text": [
      "Anne-Lise expected reward48.43514239891776\n"
     ]
    }
   ],
   "source": [
    "v_s =[v_s_100]\n",
    "def avg_next_step(y, x):\n",
    "    if y == 0:\n",
    "        values = [v_s[x][y+dy] for dy in [0, 0, 1]]\n",
    "    elif y == 30:\n",
    "        values = [v_s[x][y+dy] for dy in [0, 0, -1]]\n",
    "    else:\n",
    "        values = [v_s[x][y+dy] for dy in [0, -1, 1]]\n",
    "    return values\n",
    "\n",
    "\n",
    "\n",
    "for i in range(97, -1, -1):\n",
    "    col = []\n",
    "    for j in range(31):\n",
    "        next_step = avg_next_step(j, 97-i)\n",
    "        col.append(1- hill[j, i] + np.mean(next_step))\n",
    "    v_s.append(col)\n",
    "print(f\"Anne-Lise expected reward {v_s[len(v_s)-1][16]}\")"
   ],
   "metadata": {
    "collapsed": false,
    "pycharm": {
     "name": "#%%\n"
    }
   }
  },
  {
   "cell_type": "markdown",
   "source": [
    "So the expected value for Anne-Lise is $\\approx$ 48. I'm not sure i did the Bellman equation right,\n",
    "so here is my thought process/calculations so you don't have to understand the code.\n",
    "\n",
    "Start at last step with actions that give reward, column 99/i=98, and find the value of each Expected_value in\n",
    "that column. So Expected_value[98][y] = Reward[98][y] + 1/3 * Reward[99][y-1] + 1/3 * Reward[99][y] + 1/3 * Reward[99][y+1],\n",
    "and the fence cases taken into account, Reward[x][y] = 1-hill[x][y].\n",
    "After that I work my way up the hill Expected_value[x][y] = Reward[x][y] + 1/3 * Expected_value[x+1][y-1] + 1/3 * Expected_value[x+1][y] +\n",
    "                                                                             1/3 * Expected_value[x+1][y+1]\n",
    "\n",
    "\n",
    "Since we are calculation each locations value just once we have a runtime of O(locations) so O(300) in our case, if we\n",
    "were to calculate all possible trajectories we would have to do 3^100, and since we did all possible starting points also\n",
    "the equivalent to 31x3^100 = 1.59767031427e+49"
   ],
   "metadata": {
    "collapsed": false,
    "pycharm": {
     "name": "#%% md\n"
    }
   }
  },
  {
   "cell_type": "code",
   "execution_count": 42,
   "outputs": [
    {
     "data": {
      "text/plain": "<Figure size 432x288 with 1 Axes>",
      "image/png": "[encoded data removed]"
     },
     "metadata": {
      "needs_background": "light"
     },
     "output_type": "display_data"
    },
    {
     "name": "stdout",
     "output_type": "stream",
     "text": [
      "\n"
     ]
    },
    {
     "data": {
      "text/plain": "<Figure size 432x288 with 1 Axes>",
      "image/png": "[encoded data removed]"
     },
     "metadata": {
      "needs_background": "light"
     },
     "output_type": "display_data"
    }
   ],
   "source": [
    "img =[[]]*31\n",
    "for row_idx in range(31):\n",
    "        img[row_idx] = [v_s[col_idx][row_idx] for col_idx in range(98, -1, -1)]\n",
    "plt.title(\"Anne-Lise Expected values, lighter is more expected points\")\n",
    "plt.imshow(img)\n",
    "plt.pause(0.01)\n",
    "plt.title(\"Roughness of the hill\")\n",
    "plt.imshow(hill, cmap='gray')\n",
    "print()"
   ],
   "metadata": {
    "collapsed": false,
    "pycharm": {
     "name": "#%%\n"
    }
   }
  },
  {
   "cell_type": "markdown",
   "source": [],
   "metadata": {
    "collapsed": false
   }
  }
 ],
 "metadata": {
  "kernelspec": {
   "display_name": "Python 3",
   "language": "python",
   "name": "python3"
  },
  "language_info": {
   "codemirror_mode": {
    "name": "ipython",
    "version": 2
   },
   "file_extension": ".py",
   "mimetype": "text/x-python",
   "name": "python",
   "nbconvert_exporter": "python",
   "pygments_lexer": "ipython2",
   "version": "2.7.6"
  }
 },
 "nbformat": 4,
 "nbformat_minor": 0
}