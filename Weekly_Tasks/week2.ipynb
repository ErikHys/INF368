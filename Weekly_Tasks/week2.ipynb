{
 "cells": [
  {
   "cell_type": "markdown",
   "source": [
    "## Level 1\n",
    "Exact expectation = 5 * 0.7kr = 3.5kr per BT"
   ],
   "metadata": {
    "collapsed": false,
    "pycharm": {
     "name": "#%% md\n"
    }
   }
  },
  {
   "cell_type": "code",
   "execution_count": 21,
   "outputs": [],
   "source": [
    "import numpy as np\n",
    "import matplotlib.pyplot as plt"
   ],
   "metadata": {
    "collapsed": false,
    "pycharm": {
     "name": "#%%\n"
    }
   }
  },
  {
   "cell_type": "code",
   "execution_count": 22,
   "outputs": [],
   "source": [
    "set_size = 100000"
   ],
   "metadata": {
    "collapsed": false,
    "pycharm": {
     "name": "#%%\n"
    }
   }
  },
  {
   "cell_type": "code",
   "execution_count": 23,
   "outputs": [
    {
     "data": {
      "text/plain": "<Figure size 432x288 with 1 Axes>",
      "image/png": "[encoded data removed]"
     },
     "metadata": {
      "needs_background": "light"
     },
     "output_type": "display_data"
    }
   ],
   "source": [
    "monte_carlo_rand_num = np.random.uniform(1, 10, set_size)\n",
    "plt.hist(monte_carlo_rand_num, density=True)\n",
    "plt.title(\"Distribution of numbers\")\n",
    "plt.show()"
   ],
   "metadata": {
    "collapsed": false,
    "pycharm": {
     "name": "#%%\n"
    }
   }
  },
  {
   "cell_type": "code",
   "execution_count": 24,
   "outputs": [
    {
     "name": "stdout",
     "output_type": "stream",
     "text": [
      "3.8570340794968665\n"
     ]
    }
   ],
   "source": [
    "monte_carlo_scrap_sim = np.mean(np.vectorize(lambda x: x*0.7)(monte_carlo_rand_num))\n",
    "print(monte_carlo_scrap_sim)"
   ],
   "metadata": {
    "collapsed": false,
    "pycharm": {
     "name": "#%%\n"
    }
   }
  },
  {
   "cell_type": "markdown",
   "source": [
    "Approximate $\\approx$ 3.5"
   ],
   "metadata": {
    "collapsed": false
   }
  },
  {
   "cell_type": "markdown",
   "source": [
    "### Level 2\n"
   ],
   "metadata": {
    "collapsed": false,
    "pycharm": {
     "name": "#%% md\n"
    }
   }
  },
  {
   "cell_type": "code",
   "execution_count": 25,
   "outputs": [
    {
     "name": "stdout",
     "output_type": "stream",
     "text": [
      "103.86268869857102\n"
     ]
    }
   ],
   "source": [
    "def m(x):\n",
    "    return np.power(x, 1.5)\n",
    "\n",
    "def BT_Fredriksen_price(x):\n",
    "    return 100 + 1.1*np.sqrt(m(x))\n",
    "\n",
    "hanging_magic_string_sum = np.mean(np.vectorize(lambda x: BT_Fredriksen_price(x))(monte_carlo_rand_num))\n",
    "print(hanging_magic_string_sum)"
   ],
   "metadata": {
    "collapsed": false,
    "pycharm": {
     "name": "#%%\n"
    }
   }
  },
  {
   "cell_type": "markdown",
   "source": [
    "Approximate $\\approx$ 103.5"
   ],
   "metadata": {
    "collapsed": false
   }
  },
  {
   "cell_type": "markdown",
   "source": [
    "### Level 3"
   ],
   "metadata": {
    "collapsed": false
   }
  },
  {
   "cell_type": "code",
   "execution_count": 26,
   "outputs": [],
   "source": [
    "with open(\"../Data/brands.txt\") as brands_table:\n",
    "    table = brands_table.read()\n",
    "\n",
    "table = table.split()\n",
    "\n",
    "i = 0\n",
    "table_dict = {}\n",
    "while i < len(table):\n",
    "    table_dict[table[i]] = (eval(table[i+1]), eval(table[i+3]), eval(table[i+4]), eval(table[i+6]), eval(table[i+7]))\n",
    "    i += 8"
   ],
   "metadata": {
    "collapsed": false,
    "pycharm": {
     "name": "#%%\n"
    }
   }
  },
  {
   "cell_type": "code",
   "execution_count": 27,
   "outputs": [],
   "source": [
    "def prob(m, lamb, k):\n",
    "    y = -(m/(1+(np.abs(lamb))))**(1+np.abs(k))\n",
    "    return 1 - np.exp(y)\n",
    "\n",
    "def break_string(brand, m):\n",
    "    if brand == '0':\n",
    "        return False\n",
    "    x = np.random.rand()\n",
    "    k = np.random.normal(table_dict[brand][0], table_dict[brand][1], 1)[0]\n",
    "    lamb = np.random.normal(table_dict[brand][2], table_dict[brand][3], 1)[0]\n",
    "    return x >= prob(m, lamb, k)\n",
    "\n",
    "def string_price(brand):\n",
    "    return table_dict[brand][4] if brand != '0' else 0"
   ],
   "metadata": {
    "collapsed": false,
    "pycharm": {
     "name": "#%%\n"
    }
   }
  },
  {
   "cell_type": "code",
   "execution_count": 28,
   "outputs": [
    {
     "name": "stdout",
     "output_type": "stream",
     "text": [
      "Brand: 1 expected earnings: 38.16513907120647\n",
      "Brand: 2 expected earnings: 41.68010884321087\n",
      "Brand: 3 expected earnings: 23.12385866804276\n",
      "Brand: 4 expected earnings: 21.259889277427025\n",
      "Brand: 5 expected earnings: 52.07990105529105\n",
      "Brand: 6 expected earnings: 35.81001360234271\n",
      "Brand: 7 expected earnings: 38.00012064142578\n",
      "Brand: 8 expected earnings: 32.679415443416694\n",
      "Brand: 9 expected earnings: 45.248179008843124\n",
      "Brand: 10 expected earnings: 30.052602319971296\n"
     ]
    }
   ],
   "source": [
    "l = []\n",
    "for key in table_dict.keys():\n",
    "    earnings = np.mean(np.vectorize(lambda x: (BT_Fredriksen_price(x)-table_dict[key][4]) if break_string(key, m(x))\n",
    "                                    else x*0.7)(monte_carlo_rand_num))\n",
    "    print(\"Brand:\", key,\"expected earnings:\", earnings)\n",
    "    l.append(earnings)"
   ],
   "metadata": {
    "collapsed": false,
    "pycharm": {
     "name": "#%%\n"
    }
   }
  },
  {
   "cell_type": "markdown",
   "source": [
    "Brand 5 has the highest earnings with $\\approx$ 52"
   ],
   "metadata": {
    "collapsed": false
   }
  },
  {
   "cell_type": "code",
   "execution_count": 29,
   "outputs": [
    {
     "name": "stdout",
     "output_type": "stream",
     "text": [
      "29.19436823610357\n"
     ]
    }
   ],
   "source": [
    "print(np.mean(np.vectorize(lambda x: ((BT_Fredriksen_price(x))\n",
    "                                    if break_string(str(np.random.randint(1,11)), m(x))\n",
    "                                    else x*0.7)-table_dict[str(np.random.randint(1, 11))][4])(monte_carlo_rand_num)))\n"
   ],
   "metadata": {
    "collapsed": false,
    "pycharm": {
     "name": "#%%\n"
    }
   }
  },
  {
   "cell_type": "markdown",
   "source": [
    "The expected value of a uniformly random choice brand is $\\approx$ 29, so Hubert shouldn't sell to the guy his guy knows!!\n"
   ],
   "metadata": {
    "collapsed": false,
    "pycharm": {
     "name": "#%% md\n"
    }
   }
  },
  {
   "cell_type": "code",
   "execution_count": 30,
   "outputs": [],
   "source": [
    "def hubert_take_steps(n, epsilon, alpha=0.1):\n",
    "    avg_earnings = {}\n",
    "    plot_earnings = {}\n",
    "    for key in table_dict.keys():\n",
    "        avg_earnings[key] = 0\n",
    "        plot_earnings[key] = [0]\n",
    "\n",
    "    #Adding brand 0, which is selling to a guy who knows our guy...\n",
    "    avg_earnings['0'] = 0\n",
    "    plot_earnings['0'] = []\n",
    "\n",
    "    reward = 0\n",
    "    bts = np.random.uniform(1, 10, n)\n",
    "    for bt in bts:\n",
    "        p = np.random.rand()\n",
    "        if p < 1-epsilon:\n",
    "            max_key = max(avg_earnings, key=avg_earnings.get)\n",
    "        else:\n",
    "            max_key = str(np.random.randint(11))\n",
    "\n",
    "        c_reward = (BT_Fredriksen_price(bt) if break_string(max_key, m(bt)) else bt*0.7)- (string_price(max_key))\n",
    "        reward += c_reward\n",
    "        avg_earnings[max_key] += alpha*(c_reward-avg_earnings[max_key])\n",
    "        plot_earnings[max_key].append(c_reward)\n",
    "    return plot_earnings, avg_earnings, reward"
   ],
   "metadata": {
    "collapsed": false,
    "pycharm": {
     "name": "#%%\n"
    }
   }
  },
  {
   "cell_type": "code",
   "execution_count": 31,
   "outputs": [
    {
     "data": {
      "text/plain": "<Figure size 432x288 with 1 Axes>",
      "image/png": "[encoded data removed]"
     },
     "metadata": {
      "needs_background": "light"
     },
     "output_type": "display_data"
    }
   ],
   "source": [
    "plot_earnings, avg_earnings, reward = hubert_take_steps(1000, 0.25)\n",
    "plt.boxplot([plot_earnings[k] for k in plot_earnings.keys()], labels=plot_earnings.keys())\n",
    "plt.title(\"Reward distribution epsilon = \" + str(0.25) + \" and \" + str(1000) + \" steps\")\n",
    "plt.xlabel(\"Brand\")\n",
    "plt.show()"
   ],
   "metadata": {
    "collapsed": false,
    "pycharm": {
     "name": "#%%\n"
    }
   }
  }
 ],
 "metadata": {
  "kernelspec": {
   "display_name": "Python 3",
   "language": "python",
   "name": "python3"
  },
  "language_info": {
   "codemirror_mode": {
    "name": "ipython",
    "version": 2
   },
   "file_extension": ".py",
   "mimetype": "text/x-python",
   "name": "python",
   "nbconvert_exporter": "python",
   "pygments_lexer": "ipython2",
   "version": "2.7.6"
  }
 },
 "nbformat": 4,
 "nbformat_minor": 0
}